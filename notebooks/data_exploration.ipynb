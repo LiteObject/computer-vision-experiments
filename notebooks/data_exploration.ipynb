{
 "cells": [
  {
   "cell_type": "markdown",
   "metadata": {},
   "source": [
    "# Data Exploration\n",
    "\n",
    "In this notebook, we will explore the dataset used for training the YOLO models. We will visualize some sample images, check the distribution of classes, and understand the data characteristics."
   ]
  },
  {
   "cell_type": "code",
   "execution_count": 1,
   "metadata": {},
   "outputs": [],
   "source": [
    "import os\n",
    "import cv2\n",
    "import matplotlib.pyplot as plt\n",
    "import pandas as pd\n",
    "from src.data.dataset_loader import load_dataset\n",
    "\n",
    "# Load the dataset\n",
    "data_path = 'path/to/your/dataset'\n",
    "images, annotations = load_dataset(data_path)\n",
    "\n",
    "# Display some sample images\n",
    "def display_samples(images, annotations, num_samples=5):\n",
    "    plt.figure(figsize=(15, 10))\n",
    "    for i in range(num_samples):\n",
    "        plt.subplot(1, num_samples, i + 1)\n",
    "        img = cv2.cvtColor(images[i], cv2.COLOR_BGR2RGB)\n",
    "        plt.imshow(img)\n",
    "        plt.title(f'Annotation: {annotations[i]}')\n",
    "        plt.axis('off')\n",
    "    plt.show()\n",
    "\n",
    "display_samples(images, annotations)\n"
   ]
  },
  {
   "cell_type": "markdown",
   "metadata": {},
   "source": [
    "## Class Distribution\n",
    "\n",
    "Next, we will analyze the distribution of classes in the dataset to understand the balance of our data."
   ]
  },
  {
   "cell_type": "code",
   "execution_count": 2,
   "metadata": {},
   "outputs": [],
   "source": [
    "class_distribution = pd.Series(annotations).value_counts()\n",
    "class_distribution.plot(kind='bar', figsize=(10, 5), color='skyblue')\n",
    "plt.title('Class Distribution')\n",
    "plt.xlabel('Classes')\n",
    "plt.ylabel('Number of Samples')\n",
    "plt.xticks(rotation=45)\n",
    "plt.show()"
   ]
  },
  {
   "cell_type": "markdown",
   "metadata": {},
   "source": [
    "## Conclusion\n",
    "\n",
    "In this notebook, we explored the dataset by visualizing sample images and analyzing the class distribution. This understanding will help us in the subsequent steps of model training and evaluation."
   ]
  }
 ],
 "metadata": {
  "kernelspec": {
   "display_name": "Python 3",
   "language": "python",
   "name": "python3"
  },
  "language_info": {
   "codemirror_mode": {
    "name": "ipython",
    "version": 3
   },
   "file_extension": ".py",
   "mimetype": "text/x-python",
   "name": "python",
   "nbconvert_exporter": "python",
   "pygments_lexer": "ipython3",
   "version": "3.8.5"
  }
 },
 "nbformat": 4,
 "nbformat_minor": 4
}