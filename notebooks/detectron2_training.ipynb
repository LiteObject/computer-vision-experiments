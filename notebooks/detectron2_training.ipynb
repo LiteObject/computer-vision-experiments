{
 "cells": [
  {
   "cell_type": "markdown",
   "id": "ecd5a37e",
   "metadata": {},
   "source": [
    "# Detectron2 Training and Evaluation\n",
    "\n",
    "This notebook demonstrates how to use Detectron2 for object detection tasks including:\n",
    "- Setting up Detectron2 models\n",
    "- Training on custom datasets\n",
    "- Running inference\n",
    "- Comparing different Detectron2 architectures"
   ]
  },
  {
   "cell_type": "code",
   "execution_count": null,
   "id": "ddcbc544",
   "metadata": {},
   "outputs": [],
   "source": [
    "import os\n",
    "import sys\n",
    "import torch\n",
    "import cv2\n",
    "import numpy as np\n",
    "import matplotlib.pyplot as plt\n",
    "\n",
    "# Add src to path\n",
    "sys.path.append('../src')\n",
    "\n",
    "try:\n",
    "    from models.detectron2_model import Detectron2Model\n",
    "    # from utils.helpers import download_sample_data, prepare_coco_dataset  # Uncomment when available\n",
    "    print(\"✅ Detectron2Model imported successfully\")\n",
    "except ImportError as e:\n",
    "    print(f\"❌ Import error: {e}\")\n",
    "    print(\"Make sure you're running from the correct directory and Detectron2 is installed\")\n",
    "\n",
    "print(f\"PyTorch version: {torch.__version__}\")\n",
    "print(f\"CUDA available: {torch.cuda.is_available()}\")\n",
    "if torch.cuda.is_available():\n",
    "    print(f\"CUDA device: {torch.cuda.get_device_name(0)}\")"
   ]
  },
  {
   "cell_type": "markdown",
   "id": "5ae4d818",
   "metadata": {},
   "source": [
    "## 1. Initialize Detectron2 Models\n",
    "\n",
    "Let's create instances of different Detectron2 architectures"
   ]
  },
  {
   "cell_type": "code",
   "execution_count": null,
   "id": "4a2edb19",
   "metadata": {},
   "outputs": [],
   "source": [
    "# Available models\n",
    "models = {\n",
    "    'Faster R-CNN': Detectron2Model('faster_rcnn', num_classes=80),\n",
    "    'RetinaNet': Detectron2Model('retinanet', num_classes=80),\n",
    "    'Mask R-CNN': Detectron2Model('mask_rcnn', num_classes=80),\n",
    "    'FCOS': Detectron2Model('fcos', num_classes=80)\n",
    "}\n",
    "\n",
    "# Display model information\n",
    "for name, model in models.items():\n",
    "    info = model.get_model_info()\n",
    "    print(f\"\\n{name}:\")\n",
    "    print(f\"  Architecture: {info['architecture']}\")\n",
    "    print(f\"  Classes: {info['num_classes']}\")\n",
    "    print(f\"  Device: {info['device']}\")"
   ]
  },
  {
   "cell_type": "markdown",
   "id": "43431347",
   "metadata": {},
   "source": [
    "## 2. Dataset Preparation\n",
    "\n",
    "Register your custom dataset in COCO format"
   ]
  },
  {
   "cell_type": "code",
   "execution_count": null,
   "id": "ae7843c4",
   "metadata": {},
   "outputs": [],
   "source": [
    "# Example: Register a custom dataset\n",
    "# Replace these paths with your actual dataset paths\n",
    "train_json = \"path/to/your/train_annotations.json\"\n",
    "train_images = \"path/to/your/train_images\"\n",
    "val_json = \"path/to/your/val_annotations.json\"\n",
    "val_images = \"path/to/your/val_images\"\n",
    "\n",
    "# Register datasets (uncomment when you have your data)\n",
    "# model = models['Faster R-CNN']\n",
    "# model.register_dataset(\"my_dataset_train\", train_json, train_images)\n",
    "# model.register_dataset(\"my_dataset_val\", val_json, val_images)\n",
    "\n",
    "print(\"Dataset registration completed!\")\n",
    "print(\"Note: Update the paths above with your actual dataset locations\")"
   ]
  },
  {
   "cell_type": "markdown",
   "id": "3d3c1638",
   "metadata": {},
   "source": [
    "## 3. Training Configuration\n",
    "\n",
    "Set up training parameters for your model"
   ]
  },
  {
   "cell_type": "code",
   "execution_count": null,
   "id": "e73b206b",
   "metadata": {},
   "outputs": [],
   "source": [
    "# Training configuration\n",
    "model = models['Faster R-CNN']  # Choose your model\n",
    "\n",
    "# Setup training (uncomment when you have datasets registered)\n",
    "# model.setup_training(\n",
    "#     train_dataset_name=\"my_dataset_train\",\n",
    "#     val_dataset_name=\"my_dataset_val\",\n",
    "#     output_dir=\"./detectron2_output\",\n",
    "#     learning_rate=0.00025,\n",
    "#     max_iter=1000,\n",
    "#     batch_size=2\n",
    "# )\n",
    "\n",
    "print(\"Training configuration set!\")\n",
    "print(\"Model ready for training once datasets are registered\")"
   ]
  },
  {
   "cell_type": "markdown",
   "id": "0bb38e23",
   "metadata": {},
   "source": [
    "## 4. Training\n",
    "\n",
    "Train the model on your dataset"
   ]
  },
  {
   "cell_type": "code",
   "execution_count": null,
   "id": "9472f1b0",
   "metadata": {},
   "outputs": [],
   "source": [
    "# Start training (uncomment when ready)\n",
    "# trainer = model.train()\n",
    "# print(\"Training completed!\")\n",
    "\n",
    "print(\"Training step ready - uncomment the code above when datasets are prepared\")"
   ]
  },
  {
   "cell_type": "markdown",
   "id": "810a8a6a",
   "metadata": {},
   "source": [
    "## 5. Inference on Pre-trained Models\n",
    "\n",
    "Let's test inference using pre-trained COCO models"
   ]
  },
  {
   "cell_type": "code",
   "execution_count": null,
   "id": "ba6eda3a",
   "metadata": {},
   "outputs": [],
   "source": [
    "# Test with a sample image (you can replace with your own image)\n",
    "# For demo purposes, let's create a dummy image\n",
    "sample_image = np.random.randint(0, 255, (480, 640, 3), dtype=np.uint8)\n",
    "\n",
    "# Or load a real image\n",
    "# sample_image = cv2.imread('path/to/your/image.jpg')\n",
    "\n",
    "# Run inference with Faster R-CNN\n",
    "faster_rcnn = models['Faster R-CNN']\n",
    "predictions = faster_rcnn.predict(sample_image)\n",
    "\n",
    "print(f\"Predictions shape: {predictions['instances'].pred_boxes.tensor.shape}\")\n",
    "print(f\"Number of detections: {len(predictions['instances'])}\")\n",
    "print(f\"Confidence scores: {predictions['instances'].scores[:5]}\")"
   ]
  },
  {
   "cell_type": "markdown",
   "id": "5518450c",
   "metadata": {},
   "source": [
    "## 6. Visualization\n",
    "\n",
    "Visualize the detection results"
   ]
  },
  {
   "cell_type": "code",
   "execution_count": null,
   "id": "c1205c4c",
   "metadata": {},
   "outputs": [],
   "source": [
    "# Visualize predictions\n",
    "if len(predictions['instances']) > 0:\n",
    "    vis_image = faster_rcnn.visualize_prediction(sample_image, predictions)\n",
    "\n",
    "    plt.figure(figsize=(12, 8))\n",
    "    plt.subplot(1, 2, 1)\n",
    "    plt.imshow(cv2.cvtColor(sample_image, cv2.COLOR_BGR2RGB))\n",
    "    plt.title('Original Image')\n",
    "    plt.axis('off')\n",
    "\n",
    "    plt.subplot(1, 2, 2)\n",
    "    plt.imshow(cv2.cvtColor(vis_image, cv2.COLOR_BGR2RGB))\n",
    "    plt.title('Faster R-CNN Predictions')\n",
    "    plt.axis('off')\n",
    "\n",
    "    plt.tight_layout()\n",
    "    plt.show()\n",
    "else:\n",
    "    print(\"No objects detected in the image\")"
   ]
  },
  {
   "cell_type": "markdown",
   "id": "103b4248",
   "metadata": {},
   "source": [
    "## 7. Model Comparison\n",
    "\n",
    "Compare inference speed and accuracy across different Detectron2 models"
   ]
  },
  {
   "cell_type": "code",
   "execution_count": null,
   "id": "657fa3d3",
   "metadata": {},
   "outputs": [],
   "source": [
    "import time\n",
    "\n",
    "\n",
    "def benchmark_model(model, image, num_runs=10):\n",
    "    \"\"\"Benchmark model inference speed\"\"\"\n",
    "    # Warm up\n",
    "    for _ in range(3):\n",
    "        _ = model.predict(image)\n",
    "\n",
    "    # Timing\n",
    "    start_time = time.time()\n",
    "    for _ in range(num_runs):\n",
    "        predictions = model.predict(image)\n",
    "    end_time = time.time()\n",
    "\n",
    "    avg_time = (end_time - start_time) / num_runs\n",
    "    fps = 1.0 / avg_time\n",
    "    num_detections = len(predictions['instances'])\n",
    "\n",
    "    return avg_time, fps, num_detections\n",
    "\n",
    "\n",
    "# Benchmark all models\n",
    "results = {}\n",
    "for name, model in models.items():\n",
    "    print(f\"Benchmarking {name}...\")\n",
    "    avg_time, fps, num_det = benchmark_model(model, sample_image)\n",
    "    results[name] = {\n",
    "        'avg_time': avg_time,\n",
    "        'fps': fps,\n",
    "        'detections': num_det\n",
    "    }\n",
    "    print(f\"  Average time: {avg_time:.3f}s\")\n",
    "    print(f\"  FPS: {fps:.1f}\")\n",
    "    print(f\"  Detections: {num_det}\")\n",
    "    print()"
   ]
  },
  {
   "cell_type": "markdown",
   "id": "ba4e24ab",
   "metadata": {},
   "source": [
    "## 8. Performance Visualization"
   ]
  },
  {
   "cell_type": "code",
   "execution_count": null,
   "id": "b5a4e119",
   "metadata": {},
   "outputs": [],
   "source": [
    "# Plot performance comparison\n",
    "model_names = list(results.keys())\n",
    "fps_values = [results[name]['fps'] for name in model_names]\n",
    "detection_counts = [results[name]['detections'] for name in model_names]\n",
    "\n",
    "fig, (ax1, ax2) = plt.subplots(1, 2, figsize=(15, 6))\n",
    "\n",
    "# FPS comparison\n",
    "bars1 = ax1.bar(model_names, fps_values, color=[\n",
    "                'skyblue', 'lightcoral', 'lightgreen', 'gold'])\n",
    "ax1.set_ylabel('FPS')\n",
    "ax1.set_title('Inference Speed Comparison')\n",
    "ax1.tick_params(axis='x', rotation=45)\n",
    "\n",
    "# Add value labels on bars\n",
    "for bar, fps in zip(bars1, fps_values):\n",
    "    ax1.text(bar.get_x() + bar.get_width()/2, bar.get_height() + 0.1,\n",
    "             f'{fps:.1f}', ha='center', va='bottom')\n",
    "\n",
    "# Detection count comparison\n",
    "bars2 = ax2.bar(model_names, detection_counts, color=[\n",
    "                'skyblue', 'lightcoral', 'lightgreen', 'gold'])\n",
    "ax2.set_ylabel('Number of Detections')\n",
    "ax2.set_title('Detection Count Comparison')\n",
    "ax2.tick_params(axis='x', rotation=45)\n",
    "\n",
    "# Add value labels on bars\n",
    "for bar, count in zip(bars2, detection_counts):\n",
    "    ax2.text(bar.get_x() + bar.get_width()/2, bar.get_height() + 0.1,\n",
    "             f'{count}', ha='center', va='bottom')\n",
    "\n",
    "plt.tight_layout()\n",
    "plt.show()"
   ]
  },
  {
   "cell_type": "markdown",
   "id": "a2852d23",
   "metadata": {},
   "source": [
    "## 9. Save Model\n",
    "\n",
    "Save your trained model for later use"
   ]
  },
  {
   "cell_type": "code",
   "execution_count": null,
   "id": "461a8430",
   "metadata": {},
   "outputs": [],
   "source": [
    "# Save model (uncomment after training)\n",
    "# model.save_model('detectron2_model.pth')\n",
    "# print(\"Model saved successfully!\")\n",
    "\n",
    "print(\"Model saving step ready - uncomment after training\")"
   ]
  },
  {
   "cell_type": "markdown",
   "id": "e8e5d74b",
   "metadata": {},
   "source": [
    "## Next Steps\n",
    "\n",
    "1. **Prepare your dataset**: Convert your annotations to COCO format\n",
    "2. **Update dataset paths**: Modify the dataset registration section\n",
    "3. **Adjust hyperparameters**: Tune learning rate, batch size, and iterations\n",
    "4. **Train your model**: Uncomment the training sections\n",
    "5. **Evaluate performance**: Use the evaluation methods\n",
    "6. **Compare with YOLO**: Use the model_comparison.ipynb notebook"
   ]
  }
 ],
 "metadata": {
  "kernelspec": {
   "display_name": ".venv",
   "language": "python",
   "name": "python3"
  },
  "language_info": {
   "name": "python",
   "version": "3.11.9"
  }
 },
 "nbformat": 4,
 "nbformat_minor": 5
}
